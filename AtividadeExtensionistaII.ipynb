{
 "cells": [
  {
   "cell_type": "markdown",
   "id": "f0ce4ccd",
   "metadata": {},
   "source": [
    "Atividade Extensionista II - Análise de dados World Bank"
   ]
  },
  {
   "cell_type": "code",
   "execution_count": null,
   "id": "0774ca19",
   "metadata": {},
   "outputs": [],
   "source": [
    "#Para gravar versões de outros pacotes\n",
    "#!pip install -q -U watermark"
   ]
  },
  {
   "cell_type": "code",
   "execution_count": 1,
   "id": "7a3e8981",
   "metadata": {},
   "outputs": [],
   "source": [
    "#Numpy e pandas para manipulação de dados\n",
    "import numpy as np\n",
    "import pandas as pd\n",
    "#Matplot e Seaborn para gráficos\n",
    "import matplotlib.pyplot as plt\n",
    "import seaborn as sb\n",
    "#Sklearn para machine learning\n",
    "import sklearn\n",
    "from sklearn.linear_model import LinearRegression"
   ]
  },
  {
   "cell_type": "code",
   "execution_count": 2,
   "id": "d6e3ef11",
   "metadata": {},
   "outputs": [
    {
     "name": "stdout",
     "output_type": "stream",
     "text": [
      "Author: Gabrielle Regina dos Santos Rossi\n",
      "\n",
      "sklearn   : 0.24.1\n",
      "matplotlib: 3.3.4\n",
      "pandas    : 1.2.4\n",
      "numpy     : 1.20.1\n",
      "seaborn   : 0.11.1\n",
      "\n"
     ]
    }
   ],
   "source": [
    "%reload_ext watermark\n",
    "%watermark -a \"Gabrielle Regina dos Santos Rossi\" --iversions"
   ]
  },
  {
   "cell_type": "code",
   "execution_count": 3,
   "id": "45764636",
   "metadata": {},
   "outputs": [],
   "source": [
    "dados_egov = pd.read_excel(\"C:/Users/Gabi/Downloads/API_BRA_DS2_pt_excel_v2_4327825.xlsx\", sheet_name =\"Data_Transposta\")"
   ]
  },
  {
   "cell_type": "code",
   "execution_count": 4,
   "id": "47e7b3d7",
   "metadata": {},
   "outputs": [
    {
     "data": {
      "text/plain": [
       "(62, 10)"
      ]
     },
     "execution_count": 4,
     "metadata": {},
     "output_type": "execute_result"
    }
   ],
   "source": [
    "#Verifica quantidade de linhas e colunas\n",
    "dados_egov.shape"
   ]
  },
  {
   "cell_type": "code",
   "execution_count": 5,
   "id": "39ad3c2d",
   "metadata": {},
   "outputs": [
    {
     "data": {
      "text/html": [
       "<div>\n",
       "<style scoped>\n",
       "    .dataframe tbody tr th:only-of-type {\n",
       "        vertical-align: middle;\n",
       "    }\n",
       "\n",
       "    .dataframe tbody tr th {\n",
       "        vertical-align: top;\n",
       "    }\n",
       "\n",
       "    .dataframe thead th {\n",
       "        text-align: right;\n",
       "    }\n",
       "</style>\n",
       "<table border=\"1\" class=\"dataframe\">\n",
       "  <thead>\n",
       "    <tr style=\"text-align: right;\">\n",
       "      <th></th>\n",
       "      <th>ano_coleta</th>\n",
       "      <th>pop_cresc_anual%</th>\n",
       "      <th>despesas_educ_total</th>\n",
       "      <th>pib_cresc_anual%</th>\n",
       "      <th>pib_cor_us$</th>\n",
       "      <th>pib_deflator</th>\n",
       "      <th>pib_cresc_per_capita_%pib</th>\n",
       "      <th>receita_excl_doa_%pib</th>\n",
       "      <th>despesa_nac_bruta_%pib</th>\n",
       "      <th>ibrd_e_ida</th>\n",
       "    </tr>\n",
       "  </thead>\n",
       "  <tbody>\n",
       "    <tr>\n",
       "      <th>0</th>\n",
       "      <td>1960</td>\n",
       "      <td>NaN</td>\n",
       "      <td>NaN</td>\n",
       "      <td>NaN</td>\n",
       "      <td>1.703047e+10</td>\n",
       "      <td>NaN</td>\n",
       "      <td>17.523227</td>\n",
       "      <td>NaN</td>\n",
       "      <td>NaN</td>\n",
       "      <td>NaN</td>\n",
       "    </tr>\n",
       "    <tr>\n",
       "      <th>1</th>\n",
       "      <td>1961</td>\n",
       "      <td>2.911114</td>\n",
       "      <td>NaN</td>\n",
       "      <td>8.6</td>\n",
       "      <td>1.727594e+10</td>\n",
       "      <td>34.617805</td>\n",
       "      <td>18.835467</td>\n",
       "      <td>NaN</td>\n",
       "      <td>NaN</td>\n",
       "      <td>NaN</td>\n",
       "    </tr>\n",
       "    <tr>\n",
       "      <th>2</th>\n",
       "      <td>1962</td>\n",
       "      <td>2.921449</td>\n",
       "      <td>NaN</td>\n",
       "      <td>6.6</td>\n",
       "      <td>1.923175e+10</td>\n",
       "      <td>50.249454</td>\n",
       "      <td>20.312674</td>\n",
       "      <td>NaN</td>\n",
       "      <td>NaN</td>\n",
       "      <td>NaN</td>\n",
       "    </tr>\n",
       "    <tr>\n",
       "      <th>3</th>\n",
       "      <td>1963</td>\n",
       "      <td>2.908779</td>\n",
       "      <td>NaN</td>\n",
       "      <td>0.6</td>\n",
       "      <td>2.328771e+10</td>\n",
       "      <td>78.417433</td>\n",
       "      <td>19.039697</td>\n",
       "      <td>NaN</td>\n",
       "      <td>NaN</td>\n",
       "      <td>NaN</td>\n",
       "    </tr>\n",
       "    <tr>\n",
       "      <th>4</th>\n",
       "      <td>1964</td>\n",
       "      <td>2.868020</td>\n",
       "      <td>NaN</td>\n",
       "      <td>3.4</td>\n",
       "      <td>2.096373e+10</td>\n",
       "      <td>89.533665</td>\n",
       "      <td>18.822604</td>\n",
       "      <td>NaN</td>\n",
       "      <td>NaN</td>\n",
       "      <td>NaN</td>\n",
       "    </tr>\n",
       "  </tbody>\n",
       "</table>\n",
       "</div>"
      ],
      "text/plain": [
       "   ano_coleta   pop_cresc_anual%   despesas_educ_total   pib_cresc_anual%   \\\n",
       "0         1960                NaN                   NaN                NaN   \n",
       "1         1961           2.911114                   NaN                8.6   \n",
       "2         1962           2.921449                   NaN                6.6   \n",
       "3         1963           2.908779                   NaN                0.6   \n",
       "4         1964           2.868020                   NaN                3.4   \n",
       "\n",
       "   pib_cor_us$   pib_deflator   pib_cresc_per_capita_%pib   \\\n",
       "0  1.703047e+10            NaN                   17.523227   \n",
       "1  1.727594e+10      34.617805                   18.835467   \n",
       "2  1.923175e+10      50.249454                   20.312674   \n",
       "3  2.328771e+10      78.417433                   19.039697   \n",
       "4  2.096373e+10      89.533665                   18.822604   \n",
       "\n",
       "   receita_excl_doa_%pib   despesa_nac_bruta_%pib   ibrd_e_ida   \n",
       "0                     NaN                      NaN          NaN  \n",
       "1                     NaN                      NaN          NaN  \n",
       "2                     NaN                      NaN          NaN  \n",
       "3                     NaN                      NaN          NaN  \n",
       "4                     NaN                      NaN          NaN  "
      ]
     },
     "execution_count": 5,
     "metadata": {},
     "output_type": "execute_result"
    }
   ],
   "source": [
    "#As primeiras 5 linhas do dataframe\n",
    "dados_egov.head()"
   ]
  },
  {
   "cell_type": "code",
   "execution_count": 5,
   "id": "80e53c56",
   "metadata": {},
   "outputs": [
    {
     "data": {
      "text/plain": [
       "ano_coleta                      int64\n",
       "pop_cresc_anual%              float64\n",
       "despesas_educ_total           float64\n",
       "pib_cresc_anual%              float64\n",
       "pib_cor_us$                   float64\n",
       "pib_deflator                  float64\n",
       "pib_cresc_per_capita_%pib     float64\n",
       "receita_excl_doa_%pib         float64\n",
       "despesa_nac_bruta_%pib        float64\n",
       "ibrd_e_ida                    float64\n",
       "dtype: object"
      ]
     },
     "execution_count": 5,
     "metadata": {},
     "output_type": "execute_result"
    }
   ],
   "source": [
    "#Verifica o tipo de dados\n",
    "dados_egov.dtypes"
   ]
  },
  {
   "cell_type": "code",
   "execution_count": 6,
   "id": "c45e93ac",
   "metadata": {},
   "outputs": [
    {
     "data": {
      "text/html": [
       "<div>\n",
       "<style scoped>\n",
       "    .dataframe tbody tr th:only-of-type {\n",
       "        vertical-align: middle;\n",
       "    }\n",
       "\n",
       "    .dataframe tbody tr th {\n",
       "        vertical-align: top;\n",
       "    }\n",
       "\n",
       "    .dataframe thead th {\n",
       "        text-align: right;\n",
       "    }\n",
       "</style>\n",
       "<table border=\"1\" class=\"dataframe\">\n",
       "  <thead>\n",
       "    <tr style=\"text-align: right;\">\n",
       "      <th></th>\n",
       "      <th>ano_coleta</th>\n",
       "      <th>pop_cresc_anual%</th>\n",
       "      <th>despesas_educ_total</th>\n",
       "      <th>pib_cresc_anual%</th>\n",
       "      <th>pib_cor_us$</th>\n",
       "      <th>pib_deflator</th>\n",
       "      <th>pib_cresc_per_capita_%pib</th>\n",
       "      <th>receita_excl_doa_%pib</th>\n",
       "      <th>despesa_nac_bruta_%pib</th>\n",
       "      <th>ibrd_e_ida</th>\n",
       "    </tr>\n",
       "  </thead>\n",
       "  <tbody>\n",
       "    <tr>\n",
       "      <th>count</th>\n",
       "      <td>62.000000</td>\n",
       "      <td>61.000000</td>\n",
       "      <td>21.000000</td>\n",
       "      <td>61.000000</td>\n",
       "      <td>6.200000e+01</td>\n",
       "      <td>61.000000</td>\n",
       "      <td>62.000000</td>\n",
       "      <td>11.000000</td>\n",
       "      <td>11.000000</td>\n",
       "      <td>5.100000e+01</td>\n",
       "    </tr>\n",
       "    <tr>\n",
       "      <th>mean</th>\n",
       "      <td>1990.500000</td>\n",
       "      <td>1.781628</td>\n",
       "      <td>5.128236</td>\n",
       "      <td>3.878298</td>\n",
       "      <td>7.131600e+11</td>\n",
       "      <td>206.190977</td>\n",
       "      <td>19.848726</td>\n",
       "      <td>28.586782</td>\n",
       "      <td>62.547251</td>\n",
       "      <td>2.131404e+11</td>\n",
       "    </tr>\n",
       "    <tr>\n",
       "      <th>std</th>\n",
       "      <td>18.041619</td>\n",
       "      <td>0.708045</td>\n",
       "      <td>0.907255</td>\n",
       "      <td>4.151579</td>\n",
       "      <td>7.807170e+11</td>\n",
       "      <td>538.053972</td>\n",
       "      <td>2.699786</td>\n",
       "      <td>1.065324</td>\n",
       "      <td>4.629517</td>\n",
       "      <td>1.734120e+11</td>\n",
       "    </tr>\n",
       "    <tr>\n",
       "      <th>min</th>\n",
       "      <td>1960.000000</td>\n",
       "      <td>0.672384</td>\n",
       "      <td>3.750370</td>\n",
       "      <td>-4.350000</td>\n",
       "      <td>1.703047e+10</td>\n",
       "      <td>3.671385</td>\n",
       "      <td>14.625588</td>\n",
       "      <td>26.187643</td>\n",
       "      <td>57.228409</td>\n",
       "      <td>5.984162e+09</td>\n",
       "    </tr>\n",
       "    <tr>\n",
       "      <th>25%</th>\n",
       "      <td>1975.250000</td>\n",
       "      <td>1.090193</td>\n",
       "      <td>4.479080</td>\n",
       "      <td>1.140829</td>\n",
       "      <td>1.351949e+11</td>\n",
       "      <td>7.943127</td>\n",
       "      <td>17.777108</td>\n",
       "      <td>28.203808</td>\n",
       "      <td>59.595574</td>\n",
       "      <td>9.672546e+10</td>\n",
       "    </tr>\n",
       "    <tr>\n",
       "      <th>50%</th>\n",
       "      <td>1990.500000</td>\n",
       "      <td>1.759414</td>\n",
       "      <td>5.268840</td>\n",
       "      <td>3.961989</td>\n",
       "      <td>3.448187e+11</td>\n",
       "      <td>26.528942</td>\n",
       "      <td>19.595310</td>\n",
       "      <td>28.996437</td>\n",
       "      <td>61.318780</td>\n",
       "      <td>1.609642e+11</td>\n",
       "    </tr>\n",
       "    <tr>\n",
       "      <th>75%</th>\n",
       "      <td>2005.750000</td>\n",
       "      <td>2.369530</td>\n",
       "      <td>5.855100</td>\n",
       "      <td>6.600000</td>\n",
       "      <td>1.053628e+12</td>\n",
       "      <td>92.141945</td>\n",
       "      <td>21.820034</td>\n",
       "      <td>29.201654</td>\n",
       "      <td>63.880092</td>\n",
       "      <td>2.540361e+11</td>\n",
       "    </tr>\n",
       "    <tr>\n",
       "      <th>max</th>\n",
       "      <td>2021.000000</td>\n",
       "      <td>2.921449</td>\n",
       "      <td>6.320480</td>\n",
       "      <td>13.968722</td>\n",
       "      <td>2.616157e+12</td>\n",
       "      <td>2736.970678</td>\n",
       "      <td>26.902787</td>\n",
       "      <td>29.670105</td>\n",
       "      <td>73.418804</td>\n",
       "      <td>5.686459e+11</td>\n",
       "    </tr>\n",
       "  </tbody>\n",
       "</table>\n",
       "</div>"
      ],
      "text/plain": [
       "       ano_coleta   pop_cresc_anual%   despesas_educ_total   \\\n",
       "count    62.000000          61.000000             21.000000   \n",
       "mean   1990.500000           1.781628              5.128236   \n",
       "std      18.041619           0.708045              0.907255   \n",
       "min    1960.000000           0.672384              3.750370   \n",
       "25%    1975.250000           1.090193              4.479080   \n",
       "50%    1990.500000           1.759414              5.268840   \n",
       "75%    2005.750000           2.369530              5.855100   \n",
       "max    2021.000000           2.921449              6.320480   \n",
       "\n",
       "       pib_cresc_anual%   pib_cor_us$   pib_deflator   \\\n",
       "count          61.000000  6.200000e+01      61.000000   \n",
       "mean            3.878298  7.131600e+11     206.190977   \n",
       "std             4.151579  7.807170e+11     538.053972   \n",
       "min            -4.350000  1.703047e+10       3.671385   \n",
       "25%             1.140829  1.351949e+11       7.943127   \n",
       "50%             3.961989  3.448187e+11      26.528942   \n",
       "75%             6.600000  1.053628e+12      92.141945   \n",
       "max            13.968722  2.616157e+12    2736.970678   \n",
       "\n",
       "       pib_cresc_per_capita_%pib   receita_excl_doa_%pib   \\\n",
       "count                   62.000000               11.000000   \n",
       "mean                    19.848726               28.586782   \n",
       "std                      2.699786                1.065324   \n",
       "min                     14.625588               26.187643   \n",
       "25%                     17.777108               28.203808   \n",
       "50%                     19.595310               28.996437   \n",
       "75%                     21.820034               29.201654   \n",
       "max                     26.902787               29.670105   \n",
       "\n",
       "       despesa_nac_bruta_%pib    ibrd_e_ida   \n",
       "count                11.000000  5.100000e+01  \n",
       "mean                 62.547251  2.131404e+11  \n",
       "std                   4.629517  1.734120e+11  \n",
       "min                  57.228409  5.984162e+09  \n",
       "25%                  59.595574  9.672546e+10  \n",
       "50%                  61.318780  1.609642e+11  \n",
       "75%                  63.880092  2.540361e+11  \n",
       "max                  73.418804  5.686459e+11  "
      ]
     },
     "execution_count": 6,
     "metadata": {},
     "output_type": "execute_result"
    }
   ],
   "source": [
    "#Resumo estatístico\n",
    "dados_egov.describe()"
   ]
  },
  {
   "cell_type": "code",
   "execution_count": 8,
   "id": "fb5f6107",
   "metadata": {},
   "outputs": [
    {
     "data": {
      "text/plain": [
       "ano_coleta                     0\n",
       "pop_cresc_anual%               1\n",
       "despesas_educ_total           41\n",
       "pib_cresc_anual%               1\n",
       "pib_cor_us$                    0\n",
       "pib_deflator                   1\n",
       "pib_cresc_per_capita_%pib      0\n",
       "receita_excl_doa_%pib         51\n",
       "despesa_nac_bruta_%pib        51\n",
       "ibrd_e_ida                    11\n",
       "dtype: int64"
      ]
     },
     "execution_count": 8,
     "metadata": {},
     "output_type": "execute_result"
    }
   ],
   "source": [
    "#Verificamos se há valores ausentes no dataframe\n",
    "dados_egov.isnull().sum()"
   ]
  },
  {
   "cell_type": "markdown",
   "id": "0c5460e5",
   "metadata": {},
   "source": [
    "Limpeza dos Dados"
   ]
  },
  {
   "cell_type": "code",
   "execution_count": 9,
   "id": "f5004dd1",
   "metadata": {},
   "outputs": [],
   "source": [
    "#Tratando valores ausentes através de backfilling\n",
    "dados_egov['despesas_educ_total '].fillna(method = 'bfill', inplace = True)\n",
    "dados_egov['receita_excl_doa_%pib '].fillna(method = 'bfill', inplace = True)\n",
    "dados_egov['despesa_nac_bruta_%pib '].fillna(method = 'bfill', inplace = True)\n",
    "\n"
   ]
  },
  {
   "cell_type": "code",
   "execution_count": 10,
   "id": "2f2dd84f",
   "metadata": {},
   "outputs": [],
   "source": [
    "#Tratamento valores ausentes através de interpolação\n",
    "\n",
    "dados_egov = dados_egov.interpolate()"
   ]
  },
  {
   "cell_type": "code",
   "execution_count": 11,
   "id": "e76f074e",
   "metadata": {
    "scrolled": true
   },
   "outputs": [
    {
     "data": {
      "text/plain": [
       "ano_coleta                     0\n",
       "pop_cresc_anual%               1\n",
       "despesas_educ_total            0\n",
       "pib_cresc_anual%               1\n",
       "pib_cor_us$                    0\n",
       "pib_deflator                   1\n",
       "pib_cresc_per_capita_%pib      0\n",
       "receita_excl_doa_%pib          0\n",
       "despesa_nac_bruta_%pib         0\n",
       "ibrd_e_ida                    10\n",
       "dtype: int64"
      ]
     },
     "execution_count": 11,
     "metadata": {},
     "output_type": "execute_result"
    }
   ],
   "source": [
    "#Verificamos como o dataframe ficou após o tratamento\n",
    "dados_egov.isnull().sum()"
   ]
  },
  {
   "cell_type": "code",
   "execution_count": 12,
   "id": "5c82d7e7",
   "metadata": {},
   "outputs": [
    {
     "data": {
      "text/plain": [
       "(62, 10)"
      ]
     },
     "execution_count": 12,
     "metadata": {},
     "output_type": "execute_result"
    }
   ],
   "source": [
    "#Não houve perda de dados após o tratamento dos campos nulos\n",
    "dados_egov.shape"
   ]
  },
  {
   "cell_type": "code",
   "execution_count": 13,
   "id": "032ca58c",
   "metadata": {},
   "outputs": [],
   "source": [
    "#Para facilitar a manipulação, arredondamos os valores em 4 casas decimais\n",
    "dados_egov = dados_egov.round(4)"
   ]
  },
  {
   "cell_type": "code",
   "execution_count": 14,
   "id": "13ea4992",
   "metadata": {},
   "outputs": [
    {
     "data": {
      "text/html": [
       "<div>\n",
       "<style scoped>\n",
       "    .dataframe tbody tr th:only-of-type {\n",
       "        vertical-align: middle;\n",
       "    }\n",
       "\n",
       "    .dataframe tbody tr th {\n",
       "        vertical-align: top;\n",
       "    }\n",
       "\n",
       "    .dataframe thead th {\n",
       "        text-align: right;\n",
       "    }\n",
       "</style>\n",
       "<table border=\"1\" class=\"dataframe\">\n",
       "  <thead>\n",
       "    <tr style=\"text-align: right;\">\n",
       "      <th></th>\n",
       "      <th>ano_coleta</th>\n",
       "      <th>pop_cresc_anual%</th>\n",
       "      <th>despesas_educ_total</th>\n",
       "      <th>pib_cresc_anual%</th>\n",
       "      <th>pib_cor_us$</th>\n",
       "      <th>pib_deflator</th>\n",
       "      <th>pib_cresc_per_capita_%pib</th>\n",
       "      <th>receita_excl_doa_%pib</th>\n",
       "      <th>despesa_nac_bruta_%pib</th>\n",
       "      <th>ibrd_e_ida</th>\n",
       "    </tr>\n",
       "  </thead>\n",
       "  <tbody>\n",
       "    <tr>\n",
       "      <th>0</th>\n",
       "      <td>1960</td>\n",
       "      <td>NaN</td>\n",
       "      <td>4.5682</td>\n",
       "      <td>NaN</td>\n",
       "      <td>1.703047e+10</td>\n",
       "      <td>NaN</td>\n",
       "      <td>17.5232</td>\n",
       "      <td>28.9964</td>\n",
       "      <td>63.9524</td>\n",
       "      <td>NaN</td>\n",
       "    </tr>\n",
       "    <tr>\n",
       "      <th>1</th>\n",
       "      <td>1961</td>\n",
       "      <td>2.9111</td>\n",
       "      <td>4.5682</td>\n",
       "      <td>8.6</td>\n",
       "      <td>1.727594e+10</td>\n",
       "      <td>34.6178</td>\n",
       "      <td>18.8355</td>\n",
       "      <td>28.9964</td>\n",
       "      <td>63.9524</td>\n",
       "      <td>NaN</td>\n",
       "    </tr>\n",
       "    <tr>\n",
       "      <th>2</th>\n",
       "      <td>1962</td>\n",
       "      <td>2.9214</td>\n",
       "      <td>4.5682</td>\n",
       "      <td>6.6</td>\n",
       "      <td>1.923175e+10</td>\n",
       "      <td>50.2495</td>\n",
       "      <td>20.3127</td>\n",
       "      <td>28.9964</td>\n",
       "      <td>63.9524</td>\n",
       "      <td>NaN</td>\n",
       "    </tr>\n",
       "    <tr>\n",
       "      <th>3</th>\n",
       "      <td>1963</td>\n",
       "      <td>2.9088</td>\n",
       "      <td>4.5682</td>\n",
       "      <td>0.6</td>\n",
       "      <td>2.328771e+10</td>\n",
       "      <td>78.4174</td>\n",
       "      <td>19.0397</td>\n",
       "      <td>28.9964</td>\n",
       "      <td>63.9524</td>\n",
       "      <td>NaN</td>\n",
       "    </tr>\n",
       "    <tr>\n",
       "      <th>4</th>\n",
       "      <td>1964</td>\n",
       "      <td>2.8680</td>\n",
       "      <td>4.5682</td>\n",
       "      <td>3.4</td>\n",
       "      <td>2.096373e+10</td>\n",
       "      <td>89.5337</td>\n",
       "      <td>18.8226</td>\n",
       "      <td>28.9964</td>\n",
       "      <td>63.9524</td>\n",
       "      <td>NaN</td>\n",
       "    </tr>\n",
       "  </tbody>\n",
       "</table>\n",
       "</div>"
      ],
      "text/plain": [
       "   ano_coleta   pop_cresc_anual%   despesas_educ_total   pib_cresc_anual%   \\\n",
       "0         1960                NaN                4.5682                NaN   \n",
       "1         1961             2.9111                4.5682                8.6   \n",
       "2         1962             2.9214                4.5682                6.6   \n",
       "3         1963             2.9088                4.5682                0.6   \n",
       "4         1964             2.8680                4.5682                3.4   \n",
       "\n",
       "   pib_cor_us$   pib_deflator   pib_cresc_per_capita_%pib   \\\n",
       "0  1.703047e+10            NaN                     17.5232   \n",
       "1  1.727594e+10        34.6178                     18.8355   \n",
       "2  1.923175e+10        50.2495                     20.3127   \n",
       "3  2.328771e+10        78.4174                     19.0397   \n",
       "4  2.096373e+10        89.5337                     18.8226   \n",
       "\n",
       "   receita_excl_doa_%pib   despesa_nac_bruta_%pib   ibrd_e_ida   \n",
       "0                 28.9964                  63.9524          NaN  \n",
       "1                 28.9964                  63.9524          NaN  \n",
       "2                 28.9964                  63.9524          NaN  \n",
       "3                 28.9964                  63.9524          NaN  \n",
       "4                 28.9964                  63.9524          NaN  "
      ]
     },
     "execution_count": 14,
     "metadata": {},
     "output_type": "execute_result"
    }
   ],
   "source": [
    "dados_egov.head()"
   ]
  },
  {
   "cell_type": "code",
   "execution_count": 15,
   "id": "69bab990",
   "metadata": {},
   "outputs": [],
   "source": [
    "#Salvando o dataset já limpo em csv\n",
    "dados_egov.to_csv('C:/Users/Gabi/Downloads/dataset_limpo', index = False)"
   ]
  },
  {
   "cell_type": "code",
   "execution_count": 7,
   "id": "475d73a0",
   "metadata": {},
   "outputs": [],
   "source": [
    "#Carregando o dataset limpo\n",
    "df = pd.read_csv('C:/Users/Gabi/Downloads/dataset_limpo')"
   ]
  },
  {
   "cell_type": "code",
   "execution_count": 8,
   "id": "1226b5ed",
   "metadata": {},
   "outputs": [
    {
     "data": {
      "text/html": [
       "<div>\n",
       "<style scoped>\n",
       "    .dataframe tbody tr th:only-of-type {\n",
       "        vertical-align: middle;\n",
       "    }\n",
       "\n",
       "    .dataframe tbody tr th {\n",
       "        vertical-align: top;\n",
       "    }\n",
       "\n",
       "    .dataframe thead th {\n",
       "        text-align: right;\n",
       "    }\n",
       "</style>\n",
       "<table border=\"1\" class=\"dataframe\">\n",
       "  <thead>\n",
       "    <tr style=\"text-align: right;\">\n",
       "      <th></th>\n",
       "      <th>ano_coleta</th>\n",
       "      <th>pop_cresc_anual%</th>\n",
       "      <th>despesas_educ_total</th>\n",
       "      <th>pib_cresc_anual%</th>\n",
       "      <th>pib_cor_us$</th>\n",
       "      <th>pib_deflator</th>\n",
       "      <th>pib_cresc_per_capita_%pib</th>\n",
       "      <th>receita_excl_doa_%pib</th>\n",
       "      <th>despesa_nac_bruta_%pib</th>\n",
       "      <th>ibrd_e_ida</th>\n",
       "    </tr>\n",
       "  </thead>\n",
       "  <tbody>\n",
       "    <tr>\n",
       "      <th>0</th>\n",
       "      <td>1960</td>\n",
       "      <td>NaN</td>\n",
       "      <td>4.5682</td>\n",
       "      <td>NaN</td>\n",
       "      <td>1.703047e+10</td>\n",
       "      <td>NaN</td>\n",
       "      <td>17.5232</td>\n",
       "      <td>28.9964</td>\n",
       "      <td>63.9524</td>\n",
       "      <td>NaN</td>\n",
       "    </tr>\n",
       "    <tr>\n",
       "      <th>1</th>\n",
       "      <td>1961</td>\n",
       "      <td>2.9111</td>\n",
       "      <td>4.5682</td>\n",
       "      <td>8.6</td>\n",
       "      <td>1.727594e+10</td>\n",
       "      <td>34.6178</td>\n",
       "      <td>18.8355</td>\n",
       "      <td>28.9964</td>\n",
       "      <td>63.9524</td>\n",
       "      <td>NaN</td>\n",
       "    </tr>\n",
       "    <tr>\n",
       "      <th>2</th>\n",
       "      <td>1962</td>\n",
       "      <td>2.9214</td>\n",
       "      <td>4.5682</td>\n",
       "      <td>6.6</td>\n",
       "      <td>1.923175e+10</td>\n",
       "      <td>50.2495</td>\n",
       "      <td>20.3127</td>\n",
       "      <td>28.9964</td>\n",
       "      <td>63.9524</td>\n",
       "      <td>NaN</td>\n",
       "    </tr>\n",
       "    <tr>\n",
       "      <th>3</th>\n",
       "      <td>1963</td>\n",
       "      <td>2.9088</td>\n",
       "      <td>4.5682</td>\n",
       "      <td>0.6</td>\n",
       "      <td>2.328771e+10</td>\n",
       "      <td>78.4174</td>\n",
       "      <td>19.0397</td>\n",
       "      <td>28.9964</td>\n",
       "      <td>63.9524</td>\n",
       "      <td>NaN</td>\n",
       "    </tr>\n",
       "    <tr>\n",
       "      <th>4</th>\n",
       "      <td>1964</td>\n",
       "      <td>2.8680</td>\n",
       "      <td>4.5682</td>\n",
       "      <td>3.4</td>\n",
       "      <td>2.096373e+10</td>\n",
       "      <td>89.5337</td>\n",
       "      <td>18.8226</td>\n",
       "      <td>28.9964</td>\n",
       "      <td>63.9524</td>\n",
       "      <td>NaN</td>\n",
       "    </tr>\n",
       "  </tbody>\n",
       "</table>\n",
       "</div>"
      ],
      "text/plain": [
       "   ano_coleta   pop_cresc_anual%   despesas_educ_total   pib_cresc_anual%   \\\n",
       "0         1960                NaN                4.5682                NaN   \n",
       "1         1961             2.9111                4.5682                8.6   \n",
       "2         1962             2.9214                4.5682                6.6   \n",
       "3         1963             2.9088                4.5682                0.6   \n",
       "4         1964             2.8680                4.5682                3.4   \n",
       "\n",
       "   pib_cor_us$   pib_deflator   pib_cresc_per_capita_%pib   \\\n",
       "0  1.703047e+10            NaN                     17.5232   \n",
       "1  1.727594e+10        34.6178                     18.8355   \n",
       "2  1.923175e+10        50.2495                     20.3127   \n",
       "3  2.328771e+10        78.4174                     19.0397   \n",
       "4  2.096373e+10        89.5337                     18.8226   \n",
       "\n",
       "   receita_excl_doa_%pib   despesa_nac_bruta_%pib   ibrd_e_ida   \n",
       "0                 28.9964                  63.9524          NaN  \n",
       "1                 28.9964                  63.9524          NaN  \n",
       "2                 28.9964                  63.9524          NaN  \n",
       "3                 28.9964                  63.9524          NaN  \n",
       "4                 28.9964                  63.9524          NaN  "
      ]
     },
     "execution_count": 8,
     "metadata": {},
     "output_type": "execute_result"
    }
   ],
   "source": [
    "df.head()"
   ]
  },
  {
   "cell_type": "code",
   "execution_count": 9,
   "id": "ec9785e0",
   "metadata": {},
   "outputs": [
    {
     "data": {
      "text/plain": [
       "Text(0, 0.5, 'Crescimento per capita')"
      ]
     },
     "execution_count": 9,
     "metadata": {},
     "output_type": "execute_result"
    },
    {
     "data": {
      "image/png": "[encoded data removed]",
      "text/plain": [
       "<Figure size 720x360 with 1 Axes>"
      ]
     },
     "metadata": {
      "needs_background": "light"
     },
     "output_type": "display_data"
    }
   ],
   "source": [
    "#Qual ano o país teve um alto crescimento do PIB Per Capita? \n",
    "#Gráfico\n",
    "\n",
    "df.plot(x = 'ano_coleta ', y = [\"pib_cresc_per_capita_%pib \"], kind = \"bar\", figsize = (10,5), color = 'green')\n",
    "plt.xlabel(\"Ano\")\n",
    "plt.ylabel(\"Crescimento per capita\")"
   ]
  },
  {
   "cell_type": "code",
   "execution_count": 10,
   "id": "8c9b3282",
   "metadata": {},
   "outputs": [
    {
     "data": {
      "text/html": [
       "<div>\n",
       "<style scoped>\n",
       "    .dataframe tbody tr th:only-of-type {\n",
       "        vertical-align: middle;\n",
       "    }\n",
       "\n",
       "    .dataframe tbody tr th {\n",
       "        vertical-align: top;\n",
       "    }\n",
       "\n",
       "    .dataframe thead th {\n",
       "        text-align: right;\n",
       "    }\n",
       "</style>\n",
       "<table border=\"1\" class=\"dataframe\">\n",
       "  <thead>\n",
       "    <tr style=\"text-align: right;\">\n",
       "      <th></th>\n",
       "      <th>ano_coleta</th>\n",
       "      <th>pop_cresc_anual%</th>\n",
       "      <th>despesas_educ_total</th>\n",
       "      <th>pib_cresc_anual%</th>\n",
       "      <th>pib_cor_us$</th>\n",
       "      <th>pib_deflator</th>\n",
       "      <th>pib_cresc_per_capita_%pib</th>\n",
       "      <th>receita_excl_doa_%pib</th>\n",
       "      <th>despesa_nac_bruta_%pib</th>\n",
       "      <th>ibrd_e_ida</th>\n",
       "      <th>gasto_nac_bruto</th>\n",
       "    </tr>\n",
       "  </thead>\n",
       "  <tbody>\n",
       "    <tr>\n",
       "      <th>0</th>\n",
       "      <td>1960</td>\n",
       "      <td>NaN</td>\n",
       "      <td>4.5682</td>\n",
       "      <td>NaN</td>\n",
       "      <td>1.703047e+10</td>\n",
       "      <td>NaN</td>\n",
       "      <td>17.5232</td>\n",
       "      <td>28.9964</td>\n",
       "      <td>63.9524</td>\n",
       "      <td>NaN</td>\n",
       "      <td>0.639524</td>\n",
       "    </tr>\n",
       "    <tr>\n",
       "      <th>1</th>\n",
       "      <td>1961</td>\n",
       "      <td>2.9111</td>\n",
       "      <td>4.5682</td>\n",
       "      <td>8.6</td>\n",
       "      <td>1.727594e+10</td>\n",
       "      <td>34.6178</td>\n",
       "      <td>18.8355</td>\n",
       "      <td>28.9964</td>\n",
       "      <td>63.9524</td>\n",
       "      <td>NaN</td>\n",
       "      <td>0.639524</td>\n",
       "    </tr>\n",
       "    <tr>\n",
       "      <th>2</th>\n",
       "      <td>1962</td>\n",
       "      <td>2.9214</td>\n",
       "      <td>4.5682</td>\n",
       "      <td>6.6</td>\n",
       "      <td>1.923175e+10</td>\n",
       "      <td>50.2495</td>\n",
       "      <td>20.3127</td>\n",
       "      <td>28.9964</td>\n",
       "      <td>63.9524</td>\n",
       "      <td>NaN</td>\n",
       "      <td>0.639524</td>\n",
       "    </tr>\n",
       "    <tr>\n",
       "      <th>3</th>\n",
       "      <td>1963</td>\n",
       "      <td>2.9088</td>\n",
       "      <td>4.5682</td>\n",
       "      <td>0.6</td>\n",
       "      <td>2.328771e+10</td>\n",
       "      <td>78.4174</td>\n",
       "      <td>19.0397</td>\n",
       "      <td>28.9964</td>\n",
       "      <td>63.9524</td>\n",
       "      <td>NaN</td>\n",
       "      <td>0.639524</td>\n",
       "    </tr>\n",
       "    <tr>\n",
       "      <th>4</th>\n",
       "      <td>1964</td>\n",
       "      <td>2.8680</td>\n",
       "      <td>4.5682</td>\n",
       "      <td>3.4</td>\n",
       "      <td>2.096373e+10</td>\n",
       "      <td>89.5337</td>\n",
       "      <td>18.8226</td>\n",
       "      <td>28.9964</td>\n",
       "      <td>63.9524</td>\n",
       "      <td>NaN</td>\n",
       "      <td>0.639524</td>\n",
       "    </tr>\n",
       "  </tbody>\n",
       "</table>\n",
       "</div>"
      ],
      "text/plain": [
       "   ano_coleta   pop_cresc_anual%   despesas_educ_total   pib_cresc_anual%   \\\n",
       "0         1960                NaN                4.5682                NaN   \n",
       "1         1961             2.9111                4.5682                8.6   \n",
       "2         1962             2.9214                4.5682                6.6   \n",
       "3         1963             2.9088                4.5682                0.6   \n",
       "4         1964             2.8680                4.5682                3.4   \n",
       "\n",
       "   pib_cor_us$   pib_deflator   pib_cresc_per_capita_%pib   \\\n",
       "0  1.703047e+10            NaN                     17.5232   \n",
       "1  1.727594e+10        34.6178                     18.8355   \n",
       "2  1.923175e+10        50.2495                     20.3127   \n",
       "3  2.328771e+10        78.4174                     19.0397   \n",
       "4  2.096373e+10        89.5337                     18.8226   \n",
       "\n",
       "   receita_excl_doa_%pib   despesa_nac_bruta_%pib   ibrd_e_ida   \\\n",
       "0                 28.9964                  63.9524          NaN   \n",
       "1                 28.9964                  63.9524          NaN   \n",
       "2                 28.9964                  63.9524          NaN   \n",
       "3                 28.9964                  63.9524          NaN   \n",
       "4                 28.9964                  63.9524          NaN   \n",
       "\n",
       "   gasto_nac_bruto  \n",
       "0         0.639524  \n",
       "1         0.639524  \n",
       "2         0.639524  \n",
       "3         0.639524  \n",
       "4         0.639524  "
      ]
     },
     "execution_count": 10,
     "metadata": {},
     "output_type": "execute_result"
    }
   ],
   "source": [
    "#Qual ano teve maior despesa com educação?\n",
    "#Calculamos o gasto nacional bruto em relação ao PIB\n",
    "df['gasto_nac_bruto'] = df['despesa_nac_bruta_%pib ']/100\n",
    "df.head()"
   ]
  },
  {
   "cell_type": "code",
   "execution_count": 18,
   "id": "4f6def89",
   "metadata": {},
   "outputs": [
    {
     "data": {
      "text/html": [
       "<div>\n",
       "<style scoped>\n",
       "    .dataframe tbody tr th:only-of-type {\n",
       "        vertical-align: middle;\n",
       "    }\n",
       "\n",
       "    .dataframe tbody tr th {\n",
       "        vertical-align: top;\n",
       "    }\n",
       "\n",
       "    .dataframe thead th {\n",
       "        text-align: right;\n",
       "    }\n",
       "</style>\n",
       "<table border=\"1\" class=\"dataframe\">\n",
       "  <thead>\n",
       "    <tr style=\"text-align: right;\">\n",
       "      <th></th>\n",
       "      <th>ano_coleta</th>\n",
       "      <th>pop_cresc_anual%</th>\n",
       "      <th>despesas_educ_total</th>\n",
       "      <th>pib_cresc_anual%</th>\n",
       "      <th>pib_cor_us$</th>\n",
       "      <th>pib_deflator</th>\n",
       "      <th>pib_cresc_per_capita_%pib</th>\n",
       "      <th>receita_excl_doa_%pib</th>\n",
       "      <th>despesa_nac_bruta_%pib</th>\n",
       "      <th>ibrd_e_ida</th>\n",
       "      <th>gasto_nac_bruto</th>\n",
       "      <th>gasto_educacao</th>\n",
       "    </tr>\n",
       "  </thead>\n",
       "  <tbody>\n",
       "    <tr>\n",
       "      <th>0</th>\n",
       "      <td>1960</td>\n",
       "      <td>NaN</td>\n",
       "      <td>4.5682</td>\n",
       "      <td>NaN</td>\n",
       "      <td>1.703047e+10</td>\n",
       "      <td>NaN</td>\n",
       "      <td>17.5232</td>\n",
       "      <td>28.9964</td>\n",
       "      <td>63.9524</td>\n",
       "      <td>NaN</td>\n",
       "      <td>0.639524</td>\n",
       "      <td>0.029215</td>\n",
       "    </tr>\n",
       "    <tr>\n",
       "      <th>1</th>\n",
       "      <td>1961</td>\n",
       "      <td>2.9111</td>\n",
       "      <td>4.5682</td>\n",
       "      <td>8.6</td>\n",
       "      <td>1.727594e+10</td>\n",
       "      <td>34.6178</td>\n",
       "      <td>18.8355</td>\n",
       "      <td>28.9964</td>\n",
       "      <td>63.9524</td>\n",
       "      <td>NaN</td>\n",
       "      <td>0.639524</td>\n",
       "      <td>0.029215</td>\n",
       "    </tr>\n",
       "    <tr>\n",
       "      <th>2</th>\n",
       "      <td>1962</td>\n",
       "      <td>2.9214</td>\n",
       "      <td>4.5682</td>\n",
       "      <td>6.6</td>\n",
       "      <td>1.923175e+10</td>\n",
       "      <td>50.2495</td>\n",
       "      <td>20.3127</td>\n",
       "      <td>28.9964</td>\n",
       "      <td>63.9524</td>\n",
       "      <td>NaN</td>\n",
       "      <td>0.639524</td>\n",
       "      <td>0.029215</td>\n",
       "    </tr>\n",
       "    <tr>\n",
       "      <th>3</th>\n",
       "      <td>1963</td>\n",
       "      <td>2.9088</td>\n",
       "      <td>4.5682</td>\n",
       "      <td>0.6</td>\n",
       "      <td>2.328771e+10</td>\n",
       "      <td>78.4174</td>\n",
       "      <td>19.0397</td>\n",
       "      <td>28.9964</td>\n",
       "      <td>63.9524</td>\n",
       "      <td>NaN</td>\n",
       "      <td>0.639524</td>\n",
       "      <td>0.029215</td>\n",
       "    </tr>\n",
       "    <tr>\n",
       "      <th>4</th>\n",
       "      <td>1964</td>\n",
       "      <td>2.8680</td>\n",
       "      <td>4.5682</td>\n",
       "      <td>3.4</td>\n",
       "      <td>2.096373e+10</td>\n",
       "      <td>89.5337</td>\n",
       "      <td>18.8226</td>\n",
       "      <td>28.9964</td>\n",
       "      <td>63.9524</td>\n",
       "      <td>NaN</td>\n",
       "      <td>0.639524</td>\n",
       "      <td>0.029215</td>\n",
       "    </tr>\n",
       "  </tbody>\n",
       "</table>\n",
       "</div>"
      ],
      "text/plain": [
       "   ano_coleta   pop_cresc_anual%   despesas_educ_total   pib_cresc_anual%   \\\n",
       "0         1960                NaN                4.5682                NaN   \n",
       "1         1961             2.9111                4.5682                8.6   \n",
       "2         1962             2.9214                4.5682                6.6   \n",
       "3         1963             2.9088                4.5682                0.6   \n",
       "4         1964             2.8680                4.5682                3.4   \n",
       "\n",
       "   pib_cor_us$   pib_deflator   pib_cresc_per_capita_%pib   \\\n",
       "0  1.703047e+10            NaN                     17.5232   \n",
       "1  1.727594e+10        34.6178                     18.8355   \n",
       "2  1.923175e+10        50.2495                     20.3127   \n",
       "3  2.328771e+10        78.4174                     19.0397   \n",
       "4  2.096373e+10        89.5337                     18.8226   \n",
       "\n",
       "   receita_excl_doa_%pib   despesa_nac_bruta_%pib   ibrd_e_ida   \\\n",
       "0                 28.9964                  63.9524          NaN   \n",
       "1                 28.9964                  63.9524          NaN   \n",
       "2                 28.9964                  63.9524          NaN   \n",
       "3                 28.9964                  63.9524          NaN   \n",
       "4                 28.9964                  63.9524          NaN   \n",
       "\n",
       "   gasto_nac_bruto  gasto_educacao  \n",
       "0         0.639524        0.029215  \n",
       "1         0.639524        0.029215  \n",
       "2         0.639524        0.029215  \n",
       "3         0.639524        0.029215  \n",
       "4         0.639524        0.029215  "
      ]
     },
     "execution_count": 18,
     "metadata": {},
     "output_type": "execute_result"
    }
   ],
   "source": [
    "df['gasto_educacao'] = df['despesas_educ_total ']/100 *df['gasto_nac_bruto']\n",
    "df.head()"
   ]
  },
  {
   "cell_type": "code",
   "execution_count": 19,
   "id": "4e705a38",
   "metadata": {},
   "outputs": [
    {
     "data": {
      "text/plain": [
       "<AxesSubplot:xlabel='ano_coleta\\xa0'>"
      ]
     },
     "execution_count": 19,
     "metadata": {},
     "output_type": "execute_result"
    },
    {
     "data": {
      "image/png": "[encoded data removed]",
      "text/plain": [
       "<Figure size 720x360 with 1 Axes>"
      ]
     },
     "metadata": {
      "needs_background": "light"
     },
     "output_type": "display_data"
    }
   ],
   "source": [
    "#Em gráfico\n",
    "df.plot(x = 'ano_coleta ', y=['gasto_educacao'], kind = 'bar', figsize = (10,5), color='magenta')"
   ]
  },
  {
   "cell_type": "code",
   "execution_count": 20,
   "id": "e029827e",
   "metadata": {},
   "outputs": [
    {
     "data": {
      "text/plain": [
       "<AxesSubplot:>"
      ]
     },
     "execution_count": 20,
     "metadata": {},
     "output_type": "execute_result"
    },
    {
     "data": {
      "image/png": "[encoded data removed]",
      "text/plain": [
       "<Figure size 1008x504 with 2 Axes>"
      ]
     },
     "metadata": {
      "needs_background": "light"
     },
     "output_type": "display_data"
    }
   ],
   "source": [
    "#Como a receita do governo se relaciona com as despesas do governo? \n",
    "# Calcula a correlação entre as variáveis no conjunto de dados usando o método de Pearson\n",
    "df2 = df.corr(method = 'pearson')\n",
    "\n",
    "# Definindo o tamanho do gráfico\n",
    "plt.figure(figsize = (14,7)) \n",
    "\n",
    "# Visualiza a correlação em um mapa de calor (heatmap)\n",
    "# Para escolha da cor, acessamos o link https://matplotlib.org/3.3.0/tutorials/colors/colormaps.html\n",
    "sb.heatmap(df2, \n",
    "           xticklabels = df2.columns,\n",
    "           yticklabels = df2.columns,\n",
    "           cmap = 'Oranges',\n",
    "           annot = True,\n",
    "           linewidth = 0.8)"
   ]
  },
  {
   "cell_type": "code",
   "execution_count": 22,
   "id": "05f56a2f",
   "metadata": {},
   "outputs": [
    {
     "data": {
      "text/plain": [
       "<function matplotlib.pyplot.show(close=None, block=None)>"
      ]
     },
     "execution_count": 22,
     "metadata": {},
     "output_type": "execute_result"
    },
    {
     "data": {
      "image/png": "[encoded data removed]",
      "text/plain": [
       "<Figure size 432x288 with 1 Axes>"
      ]
     },
     "metadata": {
      "needs_background": "light"
     },
     "output_type": "display_data"
    }
   ],
   "source": [
    "# Como os gastos com a educação afetam o crescimento do PIB\n",
    "df.plot(x = 'gasto_educacao', y = 'pib_cresc_anual% ', style = 'o')\n",
    "plt.xlabel('Gasto Total com Educação')\n",
    "plt.ylabel('Crescimento Anual do PIB')\n",
    "plt.show"
   ]
  },
  {
   "cell_type": "code",
   "execution_count": null,
   "id": "4afc21d2",
   "metadata": {},
   "outputs": [],
   "source": []
  },
  {
   "cell_type": "code",
   "execution_count": 25,
   "id": "cd2180ac",
   "metadata": {},
   "outputs": [],
   "source": []
  },
  {
   "cell_type": "code",
   "execution_count": null,
   "id": "d58b7f62",
   "metadata": {},
   "outputs": [],
   "source": []
  },
  {
   "cell_type": "code",
   "execution_count": null,
   "id": "e9f4c533",
   "metadata": {},
   "outputs": [],
   "source": []
  },
  {
   "cell_type": "code",
   "execution_count": null,
   "id": "843f3787",
   "metadata": {},
   "outputs": [],
   "source": []
  },
  {
   "cell_type": "code",
   "execution_count": null,
   "id": "a532f199",
   "metadata": {},
   "outputs": [],
   "source": []
  }
 ],
 "metadata": {
  "kernelspec": {
   "display_name": "Python 3",
   "language": "python",
   "name": "python3"
  },
  "language_info": {
   "codemirror_mode": {
    "name": "ipython",
    "version": 3
   },
   "file_extension": ".py",
   "mimetype": "text/x-python",
   "name": "python",
   "nbconvert_exporter": "python",
   "pygments_lexer": "ipython3",
   "version": "3.8.8"
  }
 },
 "nbformat": 4,
 "nbformat_minor": 5
}
